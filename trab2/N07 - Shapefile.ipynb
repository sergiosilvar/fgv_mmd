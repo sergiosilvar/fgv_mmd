{
 "metadata": {
  "name": ""
 },
 "nbformat": 3,
 "nbformat_minor": 0,
 "worksheets": [
  {
   "cells": [
    {
     "cell_type": "code",
     "collapsed": false,
     "input": [
      "import shapefile\n",
      "import pandas"
     ],
     "language": "python",
     "metadata": {},
     "outputs": [],
     "prompt_number": 2
    },
    {
     "cell_type": "code",
     "collapsed": false,
     "input": [
      "pricem2 = pandas.read_csv('price_m2.csv')"
     ],
     "language": "python",
     "metadata": {},
     "outputs": [],
     "prompt_number": 3
    },
    {
     "cell_type": "code",
     "collapsed": false,
     "input": [
      "pricem2.head()"
     ],
     "language": "python",
     "metadata": {},
     "outputs": [
      {
       "html": [
        "<div style=\"max-height:1000px;max-width:1500px;overflow:auto;\">\n",
        "<table border=\"1\" class=\"dataframe\">\n",
        "  <thead>\n",
        "    <tr style=\"text-align: right;\">\n",
        "      <th></th>\n",
        "      <th>Neigh</th>\n",
        "      <th>Price_M2</th>\n",
        "      <th>Glat</th>\n",
        "      <th>Glng</th>\n",
        "    </tr>\n",
        "  </thead>\n",
        "  <tbody>\n",
        "    <tr>\n",
        "      <th>0</th>\n",
        "      <td>          Abolicao</td>\n",
        "      <td> 4.590946</td>\n",
        "      <td>-22.881059</td>\n",
        "      <td>-43.296162</td>\n",
        "    </tr>\n",
        "    <tr>\n",
        "      <th>1</th>\n",
        "      <td>        Agua Santa</td>\n",
        "      <td> 3.973846</td>\n",
        "      <td>-22.902946</td>\n",
        "      <td>-43.299459</td>\n",
        "    </tr>\n",
        "    <tr>\n",
        "      <th>2</th>\n",
        "      <td> Alto Da Boa Vista</td>\n",
        "      <td> 6.634199</td>\n",
        "      <td>-22.946311</td>\n",
        "      <td>-43.254481</td>\n",
        "    </tr>\n",
        "    <tr>\n",
        "      <th>3</th>\n",
        "      <td>          Anchieta</td>\n",
        "      <td> 2.200000</td>\n",
        "      <td>-22.826141</td>\n",
        "      <td>-43.413317</td>\n",
        "    </tr>\n",
        "    <tr>\n",
        "      <th>4</th>\n",
        "      <td>           Andarai</td>\n",
        "      <td> 4.911970</td>\n",
        "      <td>-22.922071</td>\n",
        "      <td>-43.242580</td>\n",
        "    </tr>\n",
        "  </tbody>\n",
        "</table>\n",
        "</div>"
       ],
       "metadata": {},
       "output_type": "pyout",
       "prompt_number": 4,
       "text": [
        "               Neigh  Price_M2       Glat       Glng\n",
        "0           Abolicao  4.590946 -22.881059 -43.296162\n",
        "1         Agua Santa  3.973846 -22.902946 -43.299459\n",
        "2  Alto Da Boa Vista  6.634199 -22.946311 -43.254481\n",
        "3           Anchieta  2.200000 -22.826141 -43.413317\n",
        "4            Andarai  4.911970 -22.922071 -43.242580"
       ]
      }
     ],
     "prompt_number": 4
    },
    {
     "cell_type": "code",
     "collapsed": false,
     "input": [
      "sf = shapefile.Reader('qgis/Lim_Bairro.shp')"
     ],
     "language": "python",
     "metadata": {},
     "outputs": [],
     "prompt_number": 5
    },
    {
     "cell_type": "code",
     "collapsed": false,
     "input": [
      "sf.fields"
     ],
     "language": "python",
     "metadata": {},
     "outputs": [
      {
       "metadata": {},
       "output_type": "pyout",
       "prompt_number": 6,
       "text": [
        "[('DeletionFlag', 'C', 1, 0),\n",
        " ['\\xc1rea', 'N', 38, 8],\n",
        " ['NOME', 'C', 30, 0],\n",
        " ['REGIAO_ADM', 'C', 40, 0],\n",
        " ['AREA_PLANE', 'C', 20, 0],\n",
        " ['CODBAIRRO', 'C', 3, 0],\n",
        " ['CODRA', 'N', 5, 0],\n",
        " ['CODBNUM', 'N', 5, 0],\n",
        " ['LINK', 'C', 35, 0],\n",
        " ['area', 'N', 38, 9],\n",
        " ['len', 'N', 38, 9],\n",
        " ['m2', 'N', 1, 0]]"
       ]
      }
     ],
     "prompt_number": 6
    },
    {
     "cell_type": "code",
     "collapsed": false,
     "input": [],
     "language": "python",
     "metadata": {},
     "outputs": []
    }
   ],
   "metadata": {}
  }
 ]
}