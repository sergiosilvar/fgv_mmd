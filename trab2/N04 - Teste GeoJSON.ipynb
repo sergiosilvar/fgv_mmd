{
 "metadata": {
  "name": "N04 - Teste GeoJSON"
 },
 "nbformat": 3,
 "nbformat_minor": 0,
 "worksheets": [
  {
   "cells": [
    {
     "cell_type": "code",
     "collapsed": false,
     "input": [
      "import geojson\n",
      "import sqlite3"
     ],
     "language": "python",
     "metadata": {},
     "outputs": [],
     "prompt_number": 2
    },
    {
     "cell_type": "code",
     "collapsed": false,
     "input": [
      "con = sqlite3.connect('zap.db' )\n",
      "con.row_factory = sqlite3.Row"
     ],
     "language": "python",
     "metadata": {},
     "outputs": [],
     "prompt_number": 3
    },
    {
     "cell_type": "code",
     "collapsed": false,
     "input": [
      "rows = con.execute('select id_home, price_m2,  condo, bedrooms, suites, garage, glat, glng from vw_price_m2 limit 10').fetchall()\n",
      "features = []\n",
      "for row in rows:\n",
      "    point = geojson.Point(coordinates=[row['glat'],row['glng']])\n",
      "    prop = {'price_m2':row['price_m2']}\n",
      "    feature = geojson.Feature(id=row['id_home'], geometry=point, properties=prop)\n",
      "    features.append(feature)\n",
      "homes = geojson.FeatureCollection(features=features)\n",
      "\n",
      "    "
     ],
     "language": "python",
     "metadata": {},
     "outputs": [],
     "prompt_number": 4
    },
    {
     "cell_type": "code",
     "collapsed": false,
     "input": [
      "geojson.dumps(homes)"
     ],
     "language": "python",
     "metadata": {},
     "outputs": [
      {
       "output_type": "pyout",
       "prompt_number": 5,
       "text": [
        "'{\"type\": \"FeatureCollection\", \"features\": [{\"geometry\": {\"type\": \"Point\", \"coordinates\": [-22.9728681, -43.3785874]}, \"type\": \"Feature\", \"properties\": {\"price_m2\": 6.933333333333334}, \"id\": 4489164}, {\"geometry\": {\"type\": \"Point\", \"coordinates\": [-22.9846627, -43.197016]}, \"type\": \"Feature\", \"properties\": {\"price_m2\": 18.46590909090909}, \"id\": 4425547}, {\"geometry\": {\"type\": \"Point\", \"coordinates\": [-23.0012103, -43.3474172]}, \"type\": \"Feature\", \"properties\": {\"price_m2\": 10.849056603773585}, \"id\": 4714525}, {\"geometry\": {\"type\": \"Point\", \"coordinates\": [-22.9403901, -43.343415]}, \"type\": \"Feature\", \"properties\": {\"price_m2\": 4.444444444444445}, \"id\": 4681874}, {\"geometry\": {\"type\": \"Point\", \"coordinates\": [-22.9024398, -43.3591121]}, \"type\": \"Feature\", \"properties\": {\"price_m2\": 4.3}, \"id\": 4536056}, {\"geometry\": {\"type\": \"Point\", \"coordinates\": [-22.8869917, -43.2867314]}, \"type\": \"Feature\", \"properties\": {\"price_m2\": 4.468085106382978}, \"id\": 4735890}, {\"geometry\": {\"type\": \"Point\", \"coordinates\": [-22.841345, -43.3655119]}, \"type\": \"Feature\", \"properties\": {\"price_m2\": 2.1666666666666665}, \"id\": 4723614}, {\"geometry\": {\"type\": \"Point\", \"coordinates\": [-22.9223716, -43.5266773]}, \"type\": \"Feature\", \"properties\": {\"price_m2\": 1.5740740740740742}, \"id\": 4054884}, {\"geometry\": {\"type\": \"Point\", \"coordinates\": [-22.9272711, -43.3200468]}, \"type\": \"Feature\", \"properties\": {\"price_m2\": 5.0}, \"id\": 3359644}, {\"geometry\": {\"type\": \"Point\", \"coordinates\": [-22.9450341, -43.3641842]}, \"type\": \"Feature\", \"properties\": {\"price_m2\": 2.0089285714285716}, \"id\": 3954210}]}'"
       ]
      }
     ],
     "prompt_number": 5
    },
    {
     "cell_type": "code",
     "collapsed": false,
     "input": [
      "con.close()"
     ],
     "language": "python",
     "metadata": {},
     "outputs": [],
     "prompt_number": 11
    }
   ],
   "metadata": {}
  }
 ]
}