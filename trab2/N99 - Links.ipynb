{
 "metadata": {
  "name": ""
 },
 "nbformat": 3,
 "nbformat_minor": 0,
 "worksheets": [
  {
   "cells": [
    {
     "cell_type": "markdown",
     "metadata": {},
     "source": [
      "## Bottle Simple Web Server.\n",
      "\n",
      "http://bottlepy.org/docs/dev/tutorial.html#routing-static-files\n",
      "\n",
      "## Matplotlib\n",
      "\n",
      "http://nbviewer.ipython.org/urls/raw.github.com/jakevdp/mpl_tutorial/master/notebooks_raw/01_basic_plotting.ipynb  \n",
      "http://stackoverflow.com/questions/17230797/how-to-set-the-matplotlib-figure-default-size-in-ipython-notebook  \n",
      "http://wiki.scipy.org/Cookbook/Matplotlib/Show_colormaps\n",
      "\n",
      "## GoogleMaps and Heatmap.\n",
      "\n",
      "https://developers.google.com/maps/documentation/javascript/layers#JSHeatMaps  \n",
      "https://developers.google.com/maps/tutorials/data/importing_data   \n",
      "https://developers.google.com/maps/tutorials/data/json_example  \n",
      "https://developers.google.com/maps/tutorials/data/importing_data    \n",
      "https://developers.google.com/maps/documentation/javascript/reference   \n",
      "\n",
      "## Pandas\n",
      "http://pandas.pydata.org/pandas-docs/dev/indexing.html  \n",
      "http://pandas.pydata.org/pandas-docs/dev/groupby.html#groupby   \n",
      "http://stackoverflow.com/questions/12190874/pandas-sampling-a-dataframe\n",
      "\n",
      "## GeoJSON\n",
      "\n",
      "http://vallandingham.me/shapefile_to_geojson.html   \n",
      "https://github.com/JasonSanford/geojson-google-maps  \n",
      "https://developers.google.com/maps/tutorials/data/json_example \n",
      "\n",
      "## Django\n",
      "\n",
      "http://www.jeffknupp.com/blog/2012/02/09/starting-a-django-project-the-right-way/  \n",
      "https://docs.djangoproject.com/en/dev/howto/legacy-databases/ \n"
     ]
    },
    {
     "cell_type": "code",
     "collapsed": false,
     "input": [],
     "language": "python",
     "metadata": {},
     "outputs": []
    }
   ],
   "metadata": {}
  }
 ]
}