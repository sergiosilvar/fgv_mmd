{
 "metadata": {
  "name": "trab1"
 },
 "nbformat": 3,
 "nbformat_minor": 0,
 "worksheets": [
  {
   "cells": [
    {
     "cell_type": "markdown",
     "metadata": {},
     "source": [
      "1) Quais s\u00e3o as 10 maiores personalidades, em termos de poder de gerar influ\u00eancias?\n",
      "\n",
      "2) Quais s\u00e3o as 10 personalidades que mais sofreram influ\u00eancias (maior n\u00famero de influenciadores)?\n",
      "\n",
      "3) Quais s\u00e3o os 5 maiores \"clusters\" de personalidades que foram influenciados por um grupo semelhante de influentes?\n",
      "\n",
      "4) Quais s\u00e3o as 5 maiores cadeias de influ\u00eancias (ex: A --> B --> C --> ...)?\n",
      "\n",
      "5) Quais s\u00e3o os pa\u00edses que geraram os maiores influentes?\n",
      "\n",
      "6) Quais s\u00e3o as \u00e1reas dos maiores influentes?"
     ]
    },
    {
     "cell_type": "code",
     "collapsed": false,
     "input": [
      "import numpy as np\n",
      "from collections import Counter\n",
      "from scipy.cluster.vq import kmeans,kmeans2\n",
      "import networkx as nx\n",
      "import sys\n",
      "import wikipedia"
     ],
     "language": "python",
     "metadata": {},
     "outputs": [],
     "prompt_number": 28
    },
    {
     "cell_type": "markdown",
     "metadata": {},
     "source": [
      "O arquivo original foi modificado:\n",
      "    \n",
      "1. Nome das colunas alterados.  \n",
      "1. Aspas removidas.  \n",
      "1. Removido o espa\u00e7o ao final na segunda coluna."
     ]
    },
    {
     "cell_type": "code",
     "collapsed": false,
     "input": [
      "# Carregar arquivo.\n",
      "dataset = np.genfromtxt('p01_Influences_cleaned.csv', dtype=None, names=True, delimiter=';')\n",
      "#dataset = np.genfromtxt('p01_Influences.csv', dtype=None, names=True, delimiter=',',usecols=(1,2))\n"
     ],
     "language": "python",
     "metadata": {},
     "outputs": [],
     "prompt_number": 5
    },
    {
     "cell_type": "markdown",
     "metadata": {},
     "source": [
      "#### Quais s\u00e3o as 10 maiores personalidades, em termos de poder de gerar influ\u00eancias?\n",
      "R: Contar os 10 nomes que mais repetem na coluna \"influences\"."
     ]
    },
    {
     "cell_type": "code",
     "collapsed": false,
     "input": [
      "maiores_influentes = Counter(dataset['influences']).most_common()[0:10]\n",
      "maiores_influentes"
     ],
     "language": "python",
     "metadata": {},
     "outputs": [
      {
       "output_type": "pyout",
       "prompt_number": 23,
       "text": [
        "[('Georg Wilhelm Friedrich Hegel', 44),\n",
        " ('Arthur Schopenhauer', 42),\n",
        " ('Friedrich Nietzsche', 33),\n",
        " ('William S. Burroughs', 30),\n",
        " ('Karl Marx', 30),\n",
        " ('Immanuel Kant', 30),\n",
        " ('G. K. Chesterton', 29),\n",
        " ('Baruch Spinoza', 29),\n",
        " ('Samuel Beckett', 28),\n",
        " ('Franz Kafka', 27)]"
       ]
      }
     ],
     "prompt_number": 23
    },
    {
     "cell_type": "markdown",
     "metadata": {},
     "source": [
      "#### Quais s\u00e3o as 10 personalidades que mais sofreram influ\u00eancias (maior n\u00famero de influenciadores)?"
     ]
    },
    {
     "cell_type": "code",
     "collapsed": false,
     "input": [
      "Counter(dataset['influenced']).most_common()[0:10]"
     ],
     "language": "python",
     "metadata": {},
     "outputs": [
      {
       "output_type": "pyout",
       "prompt_number": 31,
       "text": [
        "[('Friedrich Nietzsche', 21),\n",
        " ('Martin Heidegger', 20),\n",
        " ('Michel Foucault', 19),\n",
        " ('Jean-Paul Sartre', 18),\n",
        " ('Stephen King', 17),\n",
        " ('Gilles Deleuze', 17),\n",
        " ('Bertrand Russell', 16),\n",
        " ('Immanuel Kant', 16),\n",
        " ('Georg Wilhelm Friedrich Hegel', 16),\n",
        " ('Albert Camus', 15)]"
       ]
      }
     ],
     "prompt_number": 31
    },
    {
     "cell_type": "markdown",
     "metadata": {},
     "source": [
      "#### Quais s\u00e3o os 5 maiores \"clusters\" de personalidades que foram influenciados por um grupo semelhante de influentes?"
     ]
    },
    {
     "cell_type": "markdown",
     "metadata": {},
     "source": [
      "Sobre tipos de vari\u00e1veis: https://statistics.laerd.com/statistical-guides/types-of-variable.php\n",
      "        \n",
      "Cluster Analysis: http://www.bus.utk.edu/stat/Stat579/Introduction%20to%20Cluster%20Analysis.pdf"
     ]
    },
    {
     "cell_type": "markdown",
     "metadata": {},
     "source": [
      "##### Abordagem Matriz com inteiros.\n"
     ]
    },
    {
     "cell_type": "code",
     "collapsed": false,
     "input": [
      "pessoas = np.union1d(np.unique(dataset['influenced']), np.unique(dataset['influences']))\n",
      "n = len(pessoas)\n",
      "# \u00cdndice de uma pessoa no vetor 'pessoas'.\n",
      "def index(s) : return np.where(pessoas==s)[0][0]\n",
      "\n",
      "# Nome da pessoa na posi\u00e7\u00e3o 'i' no vetor 'pessoas'.\n",
      "def at(i) : return pessoas[i]\n",
      "\n",
      "# Lista de adjac\u00eancia de influencias.\n",
      "influencia = np.zeros((n),dtype=object)\n",
      "\n",
      "# Lista de adjac\u00eancia de influenciados.\n",
      "influenciado = np.zeros((n),dtype=object)\n",
      "\n",
      "for x,y in dataset:\n",
      "    i = index(x)\n",
      "    j = index(y)\n",
      "    if influencia[i] == 0: influencia[i] = []\n",
      "    influencia[i].append(j)\n",
      "    if influenciado[j] == 0: influenciado[j] = []\n",
      "    influenciado[j].append(i)\n",
      "\n"
     ],
     "language": "python",
     "metadata": {},
     "outputs": [],
     "prompt_number": 6
    },
    {
     "cell_type": "code",
     "collapsed": false,
     "input": [
      "# Fun\u00e7\u00f5es auxiliares.\n",
      "\n",
      "# Cria vetor vazio se elemento for 0.\n",
      "def prep(x):\n",
      "    if x == 0: return [] \n",
      "    else: return  x\n",
      "\n",
      "# Calcula interse\u00e7\u00e3o de dois conjuntos inteiros.\n",
      "def intersec(x,y):\n",
      "    if len(x)==0 or len(y) == 0: return []\n",
      "    if x[0]==y[0]: return [x[0]]+intersec(x[1:],y[1:])\n",
      "    if x[0]< y[0]: return intersec(x[1:],y)\n",
      "    if x[0]> y[0]: return intersec(x,y[1:])\n"
     ],
     "language": "python",
     "metadata": {},
     "outputs": [],
     "prompt_number": 9
    },
    {
     "cell_type": "code",
     "collapsed": false,
     "input": [
      "[x for x in range(10) if x not in [0]]"
     ],
     "language": "python",
     "metadata": {},
     "outputs": [
      {
       "output_type": "pyout",
       "prompt_number": 90,
       "text": [
        "[1, 2, 3, 4, 5, 6, 7, 8, 9]"
       ]
      }
     ],
     "prompt_number": 90
    },
    {
     "cell_type": "code",
     "collapsed": false,
     "input": [
      "# Lista de adjac\u00eancia de influencias em comum.\n",
      "influencia_comum = np.zeros((n,n),dtype=object)\n",
      "ninfluencia_comum = np.zeros((n,n),dtype=int)\n",
      "\n",
      "# Lista de adjac\u00eancia de influenciados em comum.\n",
      "influenciado_comum = np.zeros((n,n),dtype=object)\n",
      "ninfluenciado_comum = np.zeros((n,n),dtype=int)\n",
      "\n",
      "for i in range(n):\n",
      "    if i%(n/50)==0: #print str(100*i/n)+'%' # Apenas para saber onde est\u00e1.\n",
      "        print(\"Calculando: %d%% \" % (100*i/n) )\n",
      "    influencia1 = prep(influencia[i])\n",
      "    influenciado1 = prep(influenciado[i])\n",
      "    #for j in range(i+1,n): # Matriz triangular.\n",
      "    for j in range(n):\n",
      "        if i!=j: \n",
      "            influencia2 = prep(influencia[j])\n",
      "            influenciado2 = prep(influenciado[j])\n",
      "            influencia_comum[i,j] = intersec(influencia1,influencia2)\n",
      "            ninfluencia_comum[i,j] = len(influencia_comum[i,j])            \n",
      "            influenciado_comum[i,j] = intersec(influenciado1,influenciado2)\n",
      "            ninfluenciado_comum[i,j] = len(influenciado_comum[i,j])\n",
      "        else:\n",
      "            influencia_comum[i,j] = []\n",
      "            ninfluencia_comum[i,j] = 0\n",
      "            influenciado_comum[i,j] = []            \n",
      "            ninfluenciado_comum[i,j] = 0\n",
      "            "
     ],
     "language": "python",
     "metadata": {},
     "outputs": [
      {
       "output_type": "stream",
       "stream": "stdout",
       "text": [
        "Calculando: 0% \n",
        "Calculando: 1% "
       ]
      },
      {
       "output_type": "stream",
       "stream": "stdout",
       "text": [
        "\n",
        "Calculando: 3% "
       ]
      },
      {
       "output_type": "stream",
       "stream": "stdout",
       "text": [
        "\n",
        "Calculando: 5% "
       ]
      },
      {
       "output_type": "stream",
       "stream": "stdout",
       "text": [
        "\n",
        "Calculando: 7% "
       ]
      },
      {
       "output_type": "stream",
       "stream": "stdout",
       "text": [
        "\n",
        "Calculando: 9% "
       ]
      },
      {
       "output_type": "stream",
       "stream": "stdout",
       "text": [
        "\n",
        "Calculando: 11% "
       ]
      },
      {
       "output_type": "stream",
       "stream": "stdout",
       "text": [
        "\n",
        "Calculando: 13% "
       ]
      },
      {
       "output_type": "stream",
       "stream": "stdout",
       "text": [
        "\n",
        "Calculando: 15% "
       ]
      },
      {
       "output_type": "stream",
       "stream": "stdout",
       "text": [
        "\n",
        "Calculando: 17% "
       ]
      },
      {
       "output_type": "stream",
       "stream": "stdout",
       "text": [
        "\n",
        "Calculando: 19% "
       ]
      },
      {
       "output_type": "stream",
       "stream": "stdout",
       "text": [
        "\n",
        "Calculando: 21% "
       ]
      },
      {
       "output_type": "stream",
       "stream": "stdout",
       "text": [
        "\n",
        "Calculando: 23% "
       ]
      },
      {
       "output_type": "stream",
       "stream": "stdout",
       "text": [
        "\n",
        "Calculando: 25% "
       ]
      },
      {
       "output_type": "stream",
       "stream": "stdout",
       "text": [
        "\n",
        "Calculando: 27% "
       ]
      },
      {
       "output_type": "stream",
       "stream": "stdout",
       "text": [
        "\n",
        "Calculando: 29% "
       ]
      },
      {
       "output_type": "stream",
       "stream": "stdout",
       "text": [
        "\n",
        "Calculando: 31% "
       ]
      },
      {
       "output_type": "stream",
       "stream": "stdout",
       "text": [
        "\n",
        "Calculando: 33% "
       ]
      },
      {
       "output_type": "stream",
       "stream": "stdout",
       "text": [
        "\n",
        "Calculando: 35% "
       ]
      },
      {
       "output_type": "stream",
       "stream": "stdout",
       "text": [
        "\n",
        "Calculando: 37% "
       ]
      },
      {
       "output_type": "stream",
       "stream": "stdout",
       "text": [
        "\n",
        "Calculando: 39% "
       ]
      },
      {
       "output_type": "stream",
       "stream": "stdout",
       "text": [
        "\n",
        "Calculando: 41% "
       ]
      },
      {
       "output_type": "stream",
       "stream": "stdout",
       "text": [
        "\n",
        "Calculando: 43% "
       ]
      },
      {
       "output_type": "stream",
       "stream": "stdout",
       "text": [
        "\n",
        "Calculando: 45% "
       ]
      },
      {
       "output_type": "stream",
       "stream": "stdout",
       "text": [
        "\n",
        "Calculando: 47% "
       ]
      },
      {
       "output_type": "stream",
       "stream": "stdout",
       "text": [
        "\n",
        "Calculando: 49% "
       ]
      },
      {
       "output_type": "stream",
       "stream": "stdout",
       "text": [
        "\n",
        "Calculando: 51% "
       ]
      },
      {
       "output_type": "stream",
       "stream": "stdout",
       "text": [
        "\n",
        "Calculando: 53% "
       ]
      },
      {
       "output_type": "stream",
       "stream": "stdout",
       "text": [
        "\n",
        "Calculando: 55% "
       ]
      },
      {
       "output_type": "stream",
       "stream": "stdout",
       "text": [
        "\n",
        "Calculando: 57% "
       ]
      },
      {
       "output_type": "stream",
       "stream": "stdout",
       "text": [
        "\n",
        "Calculando: 59% "
       ]
      },
      {
       "output_type": "stream",
       "stream": "stdout",
       "text": [
        "\n",
        "Calculando: 61% "
       ]
      },
      {
       "output_type": "stream",
       "stream": "stdout",
       "text": [
        "\n",
        "Calculando: 63% "
       ]
      },
      {
       "output_type": "stream",
       "stream": "stdout",
       "text": [
        "\n",
        "Calculando: 65% "
       ]
      },
      {
       "output_type": "stream",
       "stream": "stdout",
       "text": [
        "\n",
        "Calculando: 67% "
       ]
      },
      {
       "output_type": "stream",
       "stream": "stdout",
       "text": [
        "\n",
        "Calculando: 69% "
       ]
      },
      {
       "output_type": "stream",
       "stream": "stdout",
       "text": [
        "\n",
        "Calculando: 71% "
       ]
      },
      {
       "output_type": "stream",
       "stream": "stdout",
       "text": [
        "\n",
        "Calculando: 73% "
       ]
      },
      {
       "output_type": "stream",
       "stream": "stdout",
       "text": [
        "\n",
        "Calculando: 75% "
       ]
      },
      {
       "output_type": "stream",
       "stream": "stdout",
       "text": [
        "\n",
        "Calculando: 77% "
       ]
      },
      {
       "output_type": "stream",
       "stream": "stdout",
       "text": [
        "\n",
        "Calculando: 79% "
       ]
      },
      {
       "output_type": "stream",
       "stream": "stdout",
       "text": [
        "\n",
        "Calculando: 81% "
       ]
      },
      {
       "output_type": "stream",
       "stream": "stdout",
       "text": [
        "\n",
        "Calculando: 83% "
       ]
      },
      {
       "output_type": "stream",
       "stream": "stdout",
       "text": [
        "\n",
        "Calculando: 85% "
       ]
      },
      {
       "output_type": "stream",
       "stream": "stdout",
       "text": [
        "\n",
        "Calculando: 87% "
       ]
      },
      {
       "output_type": "stream",
       "stream": "stdout",
       "text": [
        "\n",
        "Calculando: 89% "
       ]
      },
      {
       "output_type": "stream",
       "stream": "stdout",
       "text": [
        "\n",
        "Calculando: 91% "
       ]
      },
      {
       "output_type": "stream",
       "stream": "stdout",
       "text": [
        "\n",
        "Calculando: 92% "
       ]
      },
      {
       "output_type": "stream",
       "stream": "stdout",
       "text": [
        "\n",
        "Calculando: 94% "
       ]
      },
      {
       "output_type": "stream",
       "stream": "stdout",
       "text": [
        "\n",
        "Calculando: 96% "
       ]
      },
      {
       "output_type": "stream",
       "stream": "stdout",
       "text": [
        "\n",
        "Calculando: 98% "
       ]
      },
      {
       "output_type": "stream",
       "stream": "stdout",
       "text": [
        "\n"
       ]
      }
     ],
     "prompt_number": 10
    },
    {
     "cell_type": "code",
     "collapsed": false,
     "input": [
      "# Verificando Nietzche.\n",
      "# Nietzche - 1094\n",
      "for j in range(n):\n",
      "    c = influencia_comum[1094,j]\n",
      "    if c!=0 and len(c)>0: \n",
      "        print j,':',influencia_comum[1094,j]\n",
      "#index('Friedrich Nietzsche') 1094\n",
      "#index('Georg Wilhelm Friedrich Hegel') #1147\n",
      "# Em comum com \"1493 - Immanuel Kant\": [1665, 2288, 2117]:\n",
      "#at(1665),at(2288),at(2117) # ('Jean-Paul Sartre', 'Martin Heidegger', 'Leo Strauss')\n"
     ],
     "language": "python",
     "metadata": {},
     "outputs": [
      {
       "output_type": "stream",
       "stream": "stdout",
       "text": [
        "92 : [1665]\n",
        "122 : [1665]\n",
        "218 : [1665]\n",
        "820 : [2288]\n",
        "846 : [1665, 2288, 1569]\n",
        "907 : [2288]\n",
        "1042 : [1665, 2288]\n",
        "1066 : [2288]\n",
        "1091 : [1665]\n",
        "1092 : [2288]\n",
        "1098 : [2288]\n",
        "1147 : [1665]\n",
        "1235 : [2288]\n",
        "1250 : [2288]\n",
        "1293 : [1665]\n",
        "1493 : [1665, 2288, 2117]\n",
        "1783 : [1665]\n",
        "1999 : [1665, 2288]\n",
        "2002 : [1665]\n",
        "2181 : [1665]\n",
        "2284 : [3423]\n",
        "2342 : [2288]\n",
        "2734 : [2288]\n",
        "2788 : [2288]\n",
        "3122 : [1665]\n",
        "3392 : [1665]\n",
        "3448 : [2288]\n"
       ]
      }
     ],
     "prompt_number": 100
    },
    {
     "cell_type": "code",
     "collapsed": false,
     "input": [
      "codebook = kmeans(ninfluencia_comum,5)"
     ],
     "language": "python",
     "metadata": {},
     "outputs": [],
     "prompt_number": 16
    },
    {
     "cell_type": "code",
     "collapsed": false,
     "input": [
      "codebook[0][0]\n",
      "reduce(lamba x,y:x+y, codebook[0][0])"
     ],
     "language": "python",
     "metadata": {},
     "outputs": [
      {
       "ename": "SyntaxError",
       "evalue": "invalid syntax (<ipython-input-19-8ec077d4e500>, line 2)",
       "output_type": "pyerr",
       "traceback": [
        "\u001b[1;36m  File \u001b[1;32m\"<ipython-input-19-8ec077d4e500>\"\u001b[1;36m, line \u001b[1;32m2\u001b[0m\n\u001b[1;33m    reduce(lamba x,y:x+y, codebook[0][0])\u001b[0m\n\u001b[1;37m                 ^\u001b[0m\n\u001b[1;31mSyntaxError\u001b[0m\u001b[1;31m:\u001b[0m invalid syntax\n"
       ]
      }
     ],
     "prompt_number": 19
    },
    {
     "cell_type": "markdown",
     "metadata": {},
     "source": [
      "##### Abordagem Matriz e K-means."
     ]
    },
    {
     "cell_type": "code",
     "collapsed": false,
     "input": [
      "''' Montar matriz de similaridade onde as linhas identificam uma pessoa \n",
      "e as colunas identificam quem a influenciou.'''\n",
      "# Fun\u00e7\u00e3o para retornar o \u00edndice de uma pessoa no vetor pessoa.\n",
      "def index(s) : return np.where(pessoas==s)[0][0]\n",
      "\n",
      "pessoas = union1d(unique(dataset['influenced']), unique(dataset['influences']))\n",
      "n = len(pessoas)\n",
      "influencia = zeros((n,n),dtype=int)\n",
      "for influenciador, influenciado in dataset:\n",
      "    i = index(influenciado)\n",
      "    j = index(influenciador)\n",
      "    influencia[i,j] = 1\n",
      "\n",
      "# Executa o algoritmo k-means para alguns k arbitr\u00e1rios.\n",
      "codebook5 = kmeans(influencia,5)\n",
      "\n",
      "# Quem s\u00e3o essas pessoas? O centro dos centr\u00f3ides?\n",
      "codebook = codebook5\n",
      "for i in range(len(codebook[0])):\n",
      "    a = codebook[0][i]==1\n",
      "    if len(pessoas[a])>0:\n",
      "        print pessoas[a][0]\n",
      "    \n",
      "    "
     ],
     "language": "python",
     "metadata": {},
     "outputs": [
      {
       "output_type": "stream",
       "stream": "stdout",
       "text": [
        "Robert Walter Weir\n",
        "Edmund Husserl\n",
        "Georg Wilhelm Friedrich Hegel\n",
        "Gottfried Leibniz\n"
       ]
      }
     ],
     "prompt_number": 141
    },
    {
     "cell_type": "markdown",
     "metadata": {},
     "source": [
      "##### Abordagem por Grafo <span style=\"color:red\">Muito Lento! </font>"
     ]
    },
    {
     "cell_type": "code",
     "collapsed": false,
     "input": [
      "# Abordagem por Grafo.\n",
      "g = nx.DiGraph()\n",
      "g.add_edges_from(dataset)\n"
     ],
     "language": "python",
     "metadata": {},
     "outputs": [],
     "prompt_number": 146
    },
    {
     "cell_type": "code",
     "collapsed": false,
     "input": [
      "outdegrees = {}\n",
      "for node in g.nodes():\n",
      "    degree = g.out_degree(node)\n",
      "    if not outdegrees.has_key(degree):\n",
      "        outdegrees[degree] = []\n",
      "    outdegrees[degree].append(node)"
     ],
     "language": "python",
     "metadata": {},
     "outputs": [],
     "prompt_number": 230
    },
    {
     "cell_type": "code",
     "collapsed": false,
     "input": [
      "pessoas = sort(g.nodes())\n",
      "n = len(pessoas)\n",
      "influenciador_comum = zeros((n,n),dtype=int)\n",
      "influencia_comum = zeros((n,n),dtype=int)\n",
      "\n",
      "g_influenciados = nx.Graph()\n",
      "\n",
      "for pessoa1 in g.nodes():\n",
      "    influenciados1 = set(g[pessoa1].keys())\n",
      "    for pessoa2 in g.nodes():\n",
      "        influenciados2 = set(g[pessoa2].keys())\n",
      "        influenciados_em_comum = intersect1d(influenciados1,influenciados2)\n",
      "        n_comum = len(influenciados_em_comum)\n",
      "        g_influenciados.add_edge(pessoa1,pessoa2,n=n_comum)"
     ],
     "language": "python",
     "metadata": {},
     "outputs": [
      {
       "output_type": "pyout",
       "prompt_number": 285,
       "text": [
        "set(['George Sand',\n",
        "     'Fyodor Dostoyevsky',\n",
        "     'Ralph Waldo Emerson',\n",
        "     'Th\\xc3\\xa9ophile Gautier',\n",
        "     'Comte de Lautr\\xc3\\xa9amont',\n",
        "     'Yanka Kupala',\n",
        "     'Georg Brandes'])"
       ]
      }
     ],
     "prompt_number": 285
    },
    {
     "cell_type": "markdown",
     "metadata": {},
     "source": [
      "#### Quais as \u00e1reas dos maiores influentes?"
     ]
    },
    {
     "cell_type": "code",
     "collapsed": false,
     "input": [
      "wikipedia.consulta_nomes(np.array(maiores_influentes)[:,0])"
     ],
     "language": "python",
     "metadata": {},
     "outputs": [
      {
       "output_type": "pyout",
       "prompt_number": 29,
       "text": [
        "[['Georg Wilhelm Friedrich Hegel', 'philosopher'],\n",
        " ['Arthur Schopenhauer', 'philosopher'],\n",
        " ['Friedrich Nietzsche', 'philosopher'],\n",
        " ['William S. Burroughs',\n",
        "  'writer <!-- for more information see [[:Template:Infobox writer/doc]] -->'],\n",
        " ['Karl Marx', 'philosopher'],\n",
        " ['Immanuel Kant', 'philosopher'],\n",
        " ['G. K. Chesterton',\n",
        "  'writer <!-- for more information see [[:Template:Infobox writer/doc]] -->'],\n",
        " ['Baruch Spinoza', 'philosopher'],\n",
        " ['Samuel Beckett',\n",
        "  'writer <!-- for more information icons such as nobel peace, see [[:Template:Infobox writer]] -->'],\n",
        " ['Franz Kafka', 'person']]"
       ]
      }
     ],
     "prompt_number": 29
    }
   ],
   "metadata": {}
  }
 ]
}