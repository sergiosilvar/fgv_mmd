{
 "metadata": {
  "name": "wikipedia"
 },
 "nbformat": 3,
 "nbformat_minor": 0,
 "worksheets": [
  {
   "cells": [
    {
     "cell_type": "code",
     "collapsed": false,
     "input": [
      "# performance: http://stackoverflow.com/questions/14259685/python-querying-wikipedia-performance\n",
      "# wikitools:  http://stackoverflow.com/questions/15371505/parsing-wikipedia-stubs-using-python-wikitools\n",
      "# howto: http://stackoverflow.com/questions/11471684/query-wikipedia-data-page\n",
      "# exemplo http://en.wikipedia.org/w/api.php?action=query&prop=revisions&rvprop=content&format=xml&titles=Friedrich_Nietzsche\n",
      "# exemplo s\u00f3 com infobox: http://en.wikipedia.org/w/api.php?action=query&prop=revisions&rvprop=content&format=xml&titles=Friedrich_Nietzsche&rvsection=0\n",
      "import urllib\n",
      "import urllib2\n",
      "import simplejson \n",
      "\n",
      "# Consulta o wiki para uma \u00fanica pessoa, em modo texto.\n",
      "def __consulta_wiki(nome):\n",
      "    url = 'http://en.wikipedia.org/w/api.php'\n",
      "    values = {'action' : 'query',\n",
      "        'prop' : 'revisions',\n",
      "        'rvprop' : 'content',          \n",
      "        'format' : 'txt',\n",
      "        'titles' : nome,\n",
      "        'rvsection':0}\n",
      "    data = urllib.urlencode(values)\n",
      "    req = urllib2.Request(url, data)\n",
      "    response = urllib2.urlopen(req)\n",
      "    return response.read()\n",
      "    \n",
      " \n",
      "# Recupera as propriedades dentro de um texto de uma \u00fanica pessoa.\n",
      "def __propriedades(stream):\n",
      "    token = 'Infobox '\n",
      "    i = stream.find(token)+len(token)\n",
      "    j = stream.find('\\n',i)\n",
      "    profissao = stream[i:j]\n",
      "    return profissao    \n",
      "\n",
      "\n",
      "# Recupera as propriedades para uma lista de nomes.    \n",
      "def consulta_nomes(nomes):\n",
      "    # Fun\u00e7\u00e3o auxiliar para aplicar no m\u00e9todo map.Recuperar as propriedades de uma \u00fanica pessoa.\n",
      "    def map_prop(nome):\n",
      "        return [nome,__propriedades(consulta_wiki(nome))]\n",
      "\n",
      "    return map(map_prop, nomes)"
     ],
     "language": "python",
     "metadata": {},
     "outputs": [],
     "prompt_number": 132
    },
    {
     "cell_type": "code",
     "collapsed": false,
     "input": [
      "\n",
      "nomes = ['Ferdinand de Saussure','Jacques Lacan','Georg Wilhelm Friedrich Hegel','Jacques Lacan']\n",
      "nome = 'Ferdinand de Saussure'\n",
      "consulta_nomes(nomes)\n",
      "#json = simplejson.loads(stream)\n"
     ],
     "language": "python",
     "metadata": {},
     "outputs": [
      {
       "output_type": "pyout",
       "prompt_number": 134,
       "text": [
        "[['Ferdinand de Saussure', 'philosopher'],\n",
        " ['Jacques Lacan', 'philosopher'],\n",
        " ['Georg Wilhelm Friedrich Hegel', 'philosopher'],\n",
        " ['Jacques Lacan', 'philosopher']]"
       ]
      }
     ],
     "prompt_number": 134
    }
   ],
   "metadata": {}
  }
 ]
}