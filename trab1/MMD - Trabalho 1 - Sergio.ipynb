{
 "metadata": {
  "name": "MMD - Trabalho 1 - Sergio"
 },
 "nbformat": 3,
 "nbformat_minor": 0,
 "worksheets": [
  {
   "cells": [
    {
     "cell_type": "markdown",
     "metadata": {},
     "source": [
      "## FGV - Modelagem e Minera\u00e7\u00e3o de Dados\n",
      "## Trabalho 1\n",
      "## Aluno: S\u00e9rgio Rodrigues"
     ]
    },
    {
     "cell_type": "markdown",
     "metadata": {},
     "source": [
      "1) Quais s\u00e3o as 10 maiores personalidades, em termos de poder de gerar influ\u00eancias?\n",
      "\n",
      "2) Quais s\u00e3o as 10 personalidades que mais sofreram influ\u00eancias (maior n\u00famero de influenciadores)?\n",
      "\n",
      "3) Quais s\u00e3o os 5 maiores \"clusters\" de personalidades que foram influenciados por um grupo semelhante de influentes?\n",
      "\n",
      "4) Quais s\u00e3o as 5 maiores cadeias de influ\u00eancias (ex: A --> B --> C --> ...)?\n",
      "\n",
      "5) Quais s\u00e3o os pa\u00edses que geraram os maiores influentes?\n",
      "\n",
      "6) Quais s\u00e3o as \u00e1reas dos maiores influentes?\n",
      "\n",
      "7) Crie uma representa\u00e7\u00e3o gr\u00e1fica do Grafo."
     ]
    },
    {
     "cell_type": "code",
     "collapsed": false,
     "input": [
      "import numpy as np\n",
      "from collections import Counter\n",
      "from scipy.cluster.vq import kmeans,kmeans2\n",
      "import sys\n",
      "import pylab as pl\n",
      "import IPython\n",
      "import datetime as dt\n",
      "import codecs\n",
      "%pylab inline "
     ],
     "language": "python",
     "metadata": {},
     "outputs": [
      {
       "output_type": "stream",
       "stream": "stdout",
       "text": [
        "\n",
        "Welcome to pylab, a matplotlib-based Python environment [backend: module://IPython.kernel.zmq.pylab.backend_inline].\n",
        "For more information, type 'help(pylab)'.\n"
       ]
      }
     ],
     "prompt_number": 2
    },
    {
     "cell_type": "markdown",
     "metadata": {},
     "source": [
      "O arquivo original foi modificado:\n",
      "    \n",
      "1. Nome das colunas alterados.  \n",
      "1. Aspas removidas.  \n",
      "1. Removido o espa\u00e7o ao final na segunda coluna."
     ]
    },
    {
     "cell_type": "code",
     "collapsed": false,
     "input": [
      "# Limpar e carregar o dataset.\n",
      "datapath = 'D:/docs/Google Drive/Mestrado FGV/Modelagem e Mineracao de Dados/trab1/p01_Influences.csv'\n",
      "s = codecs.open(datapath, encoding=\"utf-8\").readlines()\n",
      "lines = [line.strip() for line in s]\n",
      "lines2 = []\n",
      "for line in lines:\n",
      "    line = line.replace('\",','\";')\n",
      "    line = line.replace('\"','').strip()\n",
      "    lines2.append(line)\n",
      "# Dataset.\n",
      "dataset = np.array([(line.split(';')[0],line.split(';')[1]) for line in lines2])[1:]\n",
      "\n",
      "# Apenas os influenciadores.\n",
      "influenciadores = np.array(dataset[:,0])\n",
      "\n",
      "# Apenas os influenciados.\n",
      "influenciados = np.array(dataset[:,1])\n",
      "\n",
      "# Lista de pessoas.\n",
      "pessoas = np.union1d(influenciadores,influenciados)\n"
     ],
     "language": "python",
     "metadata": {},
     "outputs": [],
     "prompt_number": 69
    },
    {
     "cell_type": "markdown",
     "metadata": {},
     "source": [
      "#### Quais s\u00e3o as 10 maiores personalidades, em termos de poder de gerar influ\u00eancias?\n",
      "R: Contar os 10 nomes que mais repetem na coluna \"influenciadores\"."
     ]
    },
    {
     "cell_type": "code",
     "collapsed": false,
     "input": [
      "# M\u00e9todo comum de impress\u00e3o.\n",
      "def imprimir_lista(lista):\n",
      "    irank = 1\n",
      "    for l in lista:\n",
      "        rank = str(irank)+'\u00ba) '\n",
      "        print reduce(lambda x,y: rank.rjust(6)+str(x).ljust(30)+ str(y).ljust(30), l)\n",
      "        irank += 1\n"
     ],
     "language": "python",
     "metadata": {},
     "outputs": [],
     "prompt_number": 70
    },
    {
     "cell_type": "code",
     "collapsed": false,
     "input": [
      "maiores_influenciadores = np.array(Counter(influenciadores).most_common()[0:10])\n",
      "imprimir_lista(maiores_influenciadores)\n"
     ],
     "language": "python",
     "metadata": {},
     "outputs": [
      {
       "output_type": "stream",
       "stream": "stdout",
       "text": [
        " 1\u00ba) Georg Wilhelm Friedrich Hegel 44                            \n",
        " 2\u00ba) Arthur Schopenhauer           42                            \n",
        " 3\u00ba) Friedrich Nietzsche           33                            \n",
        " 4\u00ba) William S. Burroughs          30                            \n",
        " 5\u00ba) Karl Marx                     30                            \n",
        " 6\u00ba) Immanuel Kant                 30                            \n",
        " 7\u00ba) G. K. Chesterton              29                            \n",
        " 8\u00ba) Baruch Spinoza                29                            \n",
        " 9\u00ba) Samuel Beckett                28                            \n",
        "10\u00ba) Franz Kafka                   27                            \n"
       ]
      }
     ],
     "prompt_number": 71
    },
    {
     "cell_type": "markdown",
     "metadata": {},
     "source": [
      "#### Quais s\u00e3o as 10 personalidades que mais sofreram influ\u00eancias (maior n\u00famero de influenciadores)?"
     ]
    },
    {
     "cell_type": "code",
     "collapsed": false,
     "input": [
      "maiores_influenciados = Counter(influenciados).most_common()[0:10]\n",
      "imprimir_lista(maiores_influenciados)"
     ],
     "language": "python",
     "metadata": {},
     "outputs": [
      {
       "output_type": "stream",
       "stream": "stdout",
       "text": [
        " 1\u00ba) Friedrich Nietzsche           21                            \n",
        " 2\u00ba) Martin Heidegger              20                            \n",
        " 3\u00ba) Michel Foucault               19                            \n",
        " 4\u00ba) Jean-Paul Sartre              18                            \n",
        " 5\u00ba) Stephen King                  17                            \n",
        " 6\u00ba) Gilles Deleuze                17                            \n",
        " 7\u00ba) Bertrand Russell              16                            \n",
        " 8\u00ba) Georg Wilhelm Friedrich Hegel 16                            \n",
        " 9\u00ba) Immanuel Kant                 16                            \n",
        "10\u00ba) Albert Camus                  15                            \n"
       ]
      }
     ],
     "prompt_number": 72
    },
    {
     "cell_type": "markdown",
     "metadata": {},
     "source": [
      "#### Quais s\u00e3o os 5 maiores \"clusters\" de personalidades que foram influenciados por um grupo semelhante de influentes?"
     ]
    },
    {
     "cell_type": "markdown",
     "metadata": {},
     "source": [
      "Sobre tipos de vari\u00e1veis: https://statistics.laerd.com/statistical-guides/types-of-variable.php\n",
      "        \n",
      "Cluster Analysis: http://www.bus.utk.edu/stat/Stat579/Introduction%20to%20Cluster%20Analysis.pdf"
     ]
    },
    {
     "cell_type": "markdown",
     "metadata": {},
     "source": [
      "##### Fun\u00e7\u00f5es auxiliares."
     ]
    },
    {
     "cell_type": "code",
     "collapsed": false,
     "input": [
      "# \u00cdndice de uma pessoa no vetor 'pessoas' com nome 's'.\n",
      "def indice(s) : return np.where(pessoas==s)[0][0]\n",
      "\n",
      "# Nome da pessoa na posi\u00e7\u00e3o 'i' no vetor 'pessoas'.\n",
      "def nome(i) : return pessoas[i]\n",
      "\n",
      "# Calcula interse\u00e7\u00e3o de dois conjuntos inteiros.\n",
      "def intersec(x,y):\n",
      "    if len(x)==0 or len(y) == 0: return []\n",
      "    if x[0]==y[0]: return [x[0]]+intersec(x[1:],y[1:])\n",
      "    if x[0]< y[0]: return intersec(x[1:],y)\n",
      "    if x[0]> y[0]: return intersec(x,y[1:])\n",
      "\n",
      "# Calcula influenciados e influenciadores em comum entre 2 pessoas.\n",
      "def monta_listas_adj_influencias(dataset):\n",
      "    # Lista de adjac\u00eancias de influenciados pela pessoa de \u00edndice 'i'.\n",
      "    l_influenciados = np.empty(len(pessoas),dtype=object)\n",
      "    for i in range(len(l_influenciados)):\n",
      "        l_influenciados[i] = []\n",
      "    \n",
      "    # Lista de adjac\u00eancias que influenciaram a pessoa de \u00edndice 'i'.\n",
      "    l_influenciadores = np.empty(len(pessoas),dtype=object)\n",
      "    for i in range(len(l_influenciadores)):\n",
      "        l_influenciadores[i] = []\n",
      "\n",
      "    for influencia,influenciado in dataset:\n",
      "        l_influenciados[indice(influencia)].append(indice(influenciado))\n",
      "        l_influenciadores[indice(influenciado)].append(indice(influencia))\n",
      "\n",
      "    return l_influenciados, l_influenciadores\n",
      "\n",
      "# Interse\u00e7\u00e3o entre duas linhas de um vetor 2d. \n",
      "def lista_comum(lista,i,j):\n",
      "    return intersec(lista[i],lista[j])\n",
      "    \n",
      "# Nova montagem de listas de influencias em comum. Mais r\u00e1pido que matrizes nxn? Sim, 2min 6seg a menos.\n",
      "def monta_influencias_comum(dataset, l_pessoas):\n",
      "    # INICIALIZA\u00c7\u00c3O DE MATRIZES.\n",
      "    n = len(l_pessoas)\n",
      "    l_influenciados, l_influenciadores = monta_listas_adj_influencias(dataset)\n",
      "    \n",
      "    # Matriz onde elemento 'e[0...n]=[a,b,c,d]' tem 'c' como o tamanho da lista 'd' de pessoas ifluenciadas em comum por 'a' e 'b'.\n",
      "    m_influenciados_comum = []\n",
      "    \n",
      "    # Matriz onde elemento 'e[0...n]=[a,b,c,d]' tem 'c' como o tamanho da lista 'd' de influenciadores em comum de 'a' e 'b'.\n",
      "    m_influenciadores_comum = []\n",
      "\n",
      "    # CONSTRU\u00c7\u00c3O DAS MATRIZES.\n",
      "    for i in range(n):\n",
      "\n",
      "        for j in range(i+1,n):\n",
      "            l_comum = lista_comum(l_influenciados, i, j)\n",
      "            if len(l_comum)>0: # Armazenar somente se houver em comum.\n",
      "                m_influenciados_comum.append([i,j, len(l_comum)])\n",
      "            \n",
      "            l_comum = lista_comum(l_influenciadores, i, j)\n",
      "            if len(l_comum)>0:\n",
      "                m_influenciadores_comum.append([i,j, len(l_comum)])\n",
      "    return np.array(m_influenciados_comum),np.array(m_influenciadores_comum)\n",
      "\n",
      "# Imprimir lista de influenciadores e influenciados. Utilizado pelos dois m\u00e9todos. \n",
      "def imprimir_lista_comum(matriz,lista):\n",
      "    # \u00daltimo \u00edndice.\n",
      "    ultimo = len(matriz)-1\n",
      "    \n",
      "    # Ordenar a lista.\n",
      "    matriz_ord = matriz[matriz[:,2].argsort()]\n",
      "    \n",
      "    # Cluster \u00e9 os \u00faltimos 5 itens.\n",
      "    clusters = matriz_ord[ultimo-5:ultimo]\n",
      "    \n",
      "    # Inverter.\n",
      "    clusters = clusters[::-1]\n",
      "    \n",
      "    for c in clusters:\n",
      "        p1,p2 = nome(c[0]), nome(c[1])\n",
      "        nomes = [nome(p3) for p3 in lista_comum(lista,c[0],c[1])]\n",
      "        s = reduce(lambda x,y: x+', '+y, nomes) + '.'\n",
      "        print p1  + ' e ' + p2 + ' - (' + str(c[2]) + ' pessoas): ' + s + '\\n'    \n",
      "\n"
     ],
     "language": "python",
     "metadata": {},
     "outputs": [],
     "prompt_number": 73
    },
    {
     "cell_type": "code",
     "collapsed": false,
     "input": [
      "t1 = dt.datetime.now()\n",
      "dst = dataset\n",
      "\n",
      "# Montar listas auxiliares.\n",
      "l_influenciados,l_influenciadores = monta_listas_adj_influencias(dst)\n",
      "\n",
      "# Calcular influencias e influenciadores em comum.\n",
      "\n",
      "m_influenciados_comum,m_influenciadores_comum =\\\n",
      "    monta_influencias_comum(dst, pessoas)\n",
      "t2 = dt.datetime.now()\n",
      "delta = t2 - t1\n",
      "print 'Influenciadores/Influenciados em comum em %.2f s.' % (delta.seconds) \n",
      "# Tempo em meu notebook: 61 s."
     ],
     "language": "python",
     "metadata": {},
     "outputs": [
      {
       "output_type": "stream",
       "stream": "stdout",
       "text": [
        "Influenciadores/Influenciados em comum em 58.00 s.\n"
       ]
      }
     ],
     "prompt_number": 8
    },
    {
     "cell_type": "code",
     "collapsed": false,
     "input": [
      "# Listar os 5 maiores grupos de influenciados por 2 pessoas em comum.\n",
      "imprimir_lista_comum(m_influenciados_comum, l_influenciados)        "
     ],
     "language": "python",
     "metadata": {},
     "outputs": [
      {
       "output_type": "stream",
       "stream": "stdout",
       "text": [
        "G\u00fcnter Grass e Raoul Schrott - (7 pessoas): Salman Rushdie, Jos\u00e9 Saramago, Philip Roth, John Irving, Gabriel Garc\u00eda M\u00e1rquez, Patrick S\u00fcskind, Haruki Murakami.\n",
        "\n",
        "Immanuel Kant e Jean-Jacques Rousseau - (4 pessoas): Friedrich Nietzsche, Georg Wilhelm Friedrich Hegel, \u00c9mile Durkheim, John Rawls.\n",
        "\n",
        "Friedrich Engels e Karl Marx - (4 pessoas): Jean-Paul Sartre, Rosa Luxemburg, Vladimir Lenin, Mao Zedong.\n",
        "\n",
        "Friedrich Nietzsche e Immanuel Kant - (3 pessoas): Jean-Paul Sartre, Martin Heidegger, Leo Strauss.\n",
        "\n",
        "Alexander Herzen e Friedrich Engels - (3 pessoas): Jean-Paul Sartre, Vladimir Lenin, Mao Zedong.\n",
        "\n"
       ]
      }
     ],
     "prompt_number": 9
    },
    {
     "cell_type": "code",
     "collapsed": false,
     "input": [
      "# Listar os 5 maiores grupos que influenciaram 2 pessoas em comum.\n",
      "imprimir_lista_comum(m_influenciadores_comum, l_influenciadores)"
     ],
     "language": "python",
     "metadata": {},
     "outputs": [
      {
       "output_type": "stream",
       "stream": "stdout",
       "text": [
        "Karl Jaspers e Martin Heidegger - (5 pessoas): Friedrich Nietzsche, Georg Wilhelm Friedrich Hegel, S\u00f8ren Kierkegaard, Immanuel Kant, Wilhelm Dilthey.\n",
        "\n",
        "Jean-Paul Sartre e Martin Heidegger - (4 pessoas): Friedrich Nietzsche, Georg Wilhelm Friedrich Hegel, S\u00f8ren Kierkegaard, Immanuel Kant.\n",
        "\n",
        "Jean-Paul Sartre e Karl Jaspers - (4 pessoas): Friedrich Nietzsche, Georg Wilhelm Friedrich Hegel, S\u00f8ren Kierkegaard, Immanuel Kant.\n",
        "\n",
        "Herbert Marcuse e Theodor W. Adorno - (3 pessoas): Friedrich Nietzsche, Georg Wilhelm Friedrich Hegel, Max Horkheimer.\n",
        "\n",
        "Edvard Kocbek e France Balanti\u010d - (3 pessoas): France Pre\u0161eren, Sre\u010dko Kosovel, Josip Murn Aleksandrov.\n",
        "\n"
       ]
      }
     ],
     "prompt_number": 10
    },
    {
     "cell_type": "markdown",
     "metadata": {},
     "source": [
      "####  Quais s\u00e3o as 5 maiores cadeias de influ\u00eancias (ex: A --> B --> C --> ...)?"
     ]
    },
    {
     "cell_type": "code",
     "collapsed": false,
     "input": [
      "import networkx as nx\n",
      "import datetime as dt\n",
      "import matplotlib\n",
      "import matplotlib.pyplot as plt\n",
      "import operator\n",
      "\n",
      "# Criar grafo com todas as pessoas.\n",
      "g = nx.DiGraph()\n",
      "g.add_edges_from(dataset)\n",
      "\n",
      "# Busca caminhos a partir de todos os v\u00e9rtices usando Bellman Ford.\n",
      "max_d = 0\n",
      "max_vertice_inicial = ''\n",
      "caminhos = []\n",
      "t1 = dt.datetime.now()\n",
      "for i in range(len(pessoas)):\n",
      "    vertice_inicial = nome(i)\n",
      "    pred,dist = nx.bellman_ford(g, vertice_inicial)\n",
      "    maior_d = max(dist.values())\n",
      "    \n",
      "    # Guarda apenas caminhos n\u00e3o nulos.\n",
      "    if maior_d > 0:\n",
      "        caminhos.append([vertice_inicial,  maior_d])\n",
      "    \n",
      "# Seleciona os 5 maiores caminhos.\n",
      "maiores = sorted(caminhos, key=lambda x: x[1], reverse=True)[:5]\n",
      "\n",
      "# Cria tuplas [vertice inicial, tamanho do maior caminho, [dicion\u00e1rio de distancias, dicion\u00e1rio de predecessores]].\n",
      "maiores_cam = [[maior[0], maior[1],nx.bellman_ford(g,maior[0])] for maior in maiores]\n",
      "\n",
      "# Armazena os maiores caminhos para criar um grago.\n",
      "lista_cam = []\n",
      "\n",
      "# Finalmente, lista as 5 maiores cadeias partindo de diferentes pessoas.\n",
      "for m in maiores_cam:\n",
      "    inicial = m[0] # Nome do v\u00e9rtice inicial.\n",
      "    tam = m[1] # Tamanho do maior caminho.\n",
      "    pred = m[2][0] # Lista de predecessores.\n",
      "    dist = m[2][1] # Listas de dist\u00e2ncias a todos os v\u00e9rtices.\n",
      "    final = sorted(dist.iteritems(), key=operator.itemgetter(1), reverse=True)[0][0] # Nome do v\u00e9rtice final.\n",
      "\n",
      "    dag = nx.DiGraph()\n",
      "    for destino,origem in pred.iteritems():\n",
      "        dag.add_edge(origem, destino)\n",
      "\n",
      "    path = nx.shortest_path(dag, inicial, final)\n",
      "    lista_cam.append(path)\n",
      "    print reduce(lambda x,y: x+' >> '+y, path)+'\\n'\n",
      "\n",
      "t2 = dt.datetime.now()\n",
      "delta = (t2 - t1)\n",
      "print 'Maiores caminhos encontrados em %.2f s.' % (delta.seconds) \n",
      "# Tempo em meu notebook: 8 s.\n",
      "\n"
     ],
     "language": "python",
     "metadata": {},
     "outputs": [
      {
       "output_type": "stream",
       "stream": "stdout",
       "text": [
        "Antisthenes >> Crates of Thebes >> Zeno of Citium >> Posidonius >> Cicero >> Pierre-Joseph Proudhon >> Peter Kropotkin >> Oscar Wilde >> Andr\u00e9 Gide >> Brian O'Nolan >> Spike Milligan >> Monty Python >> George Carlin >> Sam Kinison >> Larry the Cable Guy >> Robert Kelly (comedian)\n",
        "\n",
        "Diogenes of Sinope >> Crates of Thebes >> Zeno of Citium >> Posidonius >> Cicero >> Pierre-Joseph Proudhon >> Peter Kropotkin >> Oscar Wilde >> Andr\u00e9 Gide >> Brian O'Nolan >> Spike Milligan >> Monty Python >> George Carlin >> Sam Kinison >> Larry the Cable Guy >> Robert Kelly (comedian)\n",
        "\n",
        "Euclid of Megara >> Stilpo >> Zeno of Citium >> Posidonius >> Cicero >> Pierre-Joseph Proudhon >> Peter Kropotkin >> Oscar Wilde >> Andr\u00e9 Gide >> Brian O'Nolan >> Spike Milligan >> Monty Python >> George Carlin >> Sam Kinison >> Larry the Cable Guy >> Robert Kelly (comedian)\n",
        "\n",
        "Crates of Thebes >> Zeno of Citium >> Posidonius >> Cicero >> Pierre-Joseph Proudhon >> Peter Kropotkin >> Oscar Wilde >> Andr\u00e9 Gide >> Brian O'Nolan >> Spike Milligan >> Monty Python >> George Carlin >> Sam Kinison >> Larry the Cable Guy >> Robert Kelly (comedian)\n",
        "\n",
        "Porphyry (philosopher) >> Boethius >> Thomas Aquinas >> Gottfried Leibniz >> Immanuel Kant >> Friedrich Wilhelm Joseph Schelling >> Johann Wolfgang von Goethe >> Andr\u00e9 Gide >> Brian O'Nolan >> Spike Milligan >> Monty Python >> George Carlin >> Sam Kinison >> Larry the Cable Guy >> Robert Kelly (comedian)\n",
        "\n",
        "Maiores caminhos encontrados em 8.00 s.\n"
       ]
      }
     ],
     "prompt_number": 11
    },
    {
     "cell_type": "markdown",
     "metadata": {},
     "source": [
      "#### Representa\u00e7\u00e3o Gr\u00e1fica do Grafo.\n",
      "\n",
      "Decidir criar um grafo com as 5 maiores cadeias de influ\u00eancia apresentada acima."
     ]
    },
    {
     "cell_type": "code",
     "collapsed": false,
     "input": [
      "f = plt.figure(num=1, figsize=(10,10))\n",
      "\n",
      "grafd = nx.DiGraph()\n",
      "for cam in lista_cam:\n",
      "    origem = cam[0]\n",
      "    for destino in cam:\n",
      "        e = (origem,destino)\n",
      "        grafd.add_edge(origem,destino, {len:1000})\n",
      "        origem = destino\n",
      "#pos = nx.spring_layout(grafd)\n",
      "#nx.draw(grafd,pos,arrows=True,with_labels=True)\n",
      "#nx.set_edge_attributes(grafd, 'len', 3)\n",
      "nx.draw(grafd,prog='neato')"
     ],
     "language": "python",
     "metadata": {},
     "outputs": [
      {
       "output_type": "display_data",
       "png": "[encoded data removed]",
       "text": [
        "<matplotlib.figure.Figure at 0x8a357b8>"
       ]
      }
     ],
     "prompt_number": 12
    },
    {
     "cell_type": "markdown",
     "metadata": {},
     "source": [
      "#### Quais s\u00e3o os pa\u00edses que geraram os maiores influentes?\n",
      "#### Quais as \u00e1reas dos maiores influentes?"
     ]
    },
    {
     "cell_type": "code",
     "collapsed": false,
     "input": [
      "# performance: http://stackoverflow.com/questions/14259685/python-querying-wikipedia-performance\n",
      "# wikitools:  http://stackoverflow.com/questions/15371505/parsing-wikipedia-stubs-using-python-wikitools\n",
      "# howto: http://stackoverflow.com/questions/11471684/query-wikipedia-data-page\n",
      "# exemplo http://en.wikipedia.org/w/api.php?action=query&prop=revisions&rvprop=content&format=xml&titles=Friedrich_Nietzsche\n",
      "# exemplo s\u00f3 com infobox: http://en.wikipedia.org/w/api.php?action=query&prop=revisions&rvprop=content&format=xml&titles=Friedrich_Nietzsche&rvsection=0\n",
      "import urllib\n",
      "import urllib2\n",
      "import simplejson \n",
      "import re\n",
      "import datetime as dt\n",
      "\n",
      "# Consulta o wiki para uma \u00fanica pessoa, em modo texto.\n",
      "def __consulta_wiki(nome):\n",
      "    url = 'http://en.wikipedia.org/w/api.php'\n",
      "    values = {'action' : 'query',\n",
      "        'prop' : 'revisions',\n",
      "        'rvprop' : 'content',          \n",
      "        'format' : 'txt',\n",
      "        'titles' : nome,\n",
      "        'rvsection':0}\n",
      "    data = urllib.urlencode(values)\n",
      "    req = urllib2.Request(url, data)\n",
      "    response = urllib2.urlopen(req)\n",
      "    return response.read()\n",
      "    \n",
      " \n",
      "# Recupera as propriedades dentro de um texto de uma \u00fanica pessoa.\n",
      "def __propriedades(stream):\n",
      "    token = 'Infobox '\n",
      "    i = stream.find(token)+len(token)\n",
      "    j = stream.find(' ',i)\n",
      "    k = stream.find('\\n', i)\n",
      "    x = min(j,k)\n",
      "    profissao = stream[i:x]\n",
      "    profissao = profissao.lstrip().rstrip()\n",
      "\n",
      "    token = 'birth_place'\n",
      "    i = stream.find(token)+len(token)\n",
      "    j = stream.find('|',i)\n",
      "    k = stream.find('<', i)\n",
      "    x = min(j,k)\n",
      "    local = stream[i:x]\n",
      "    local = re.sub('[!<>=\\!\\[\\]-]', '', local)    \n",
      "    local = local.lstrip().rstrip()\n",
      "    return profissao,local    \n",
      "\n",
      "\n",
      "# Recupera as propriedades para uma lista de nomes.    \n",
      "def consulta_nomes(nomes):\n",
      "    # Fun\u00e7\u00e3o auxiliar para aplicar no m\u00e9todo map.Recuperar as propriedades de uma \u00fanica pessoa.\n",
      "    def map_prop(nome):\n",
      "        return [nome,__propriedades(__consulta_wiki(nome))]\n",
      "\n",
      "    return map(map_prop, nomes)\n",
      "\n",
      "\n",
      "t1 = dt.datetime.now()\n",
      "consulta = consulta_nomes([nome[0] for nome in maiores_influenciadores])\n",
      "\n",
      "print 'NOME'.ljust(30)+ ': '+'\u00c1REA'.ljust(15)+': '+ 'PA\u00cdS' + '\\n'\n",
      "for c in  consulta:\n",
      "    nome = c[0]\n",
      "    area = c[1][0]\n",
      "    pais = c[1][1].decode('utf-8')\n",
      "    print nome.ljust(30)+ ': '+ area.ljust(15)+': '+ pais.ljust(30) + '\\n'\n",
      "\n",
      "t2 = dt.datetime.now()\n",
      "delta = t2 - t1\n",
      "print 'Consulta ao Wikipedia em %.2f s.' % (delta.seconds) \n",
      "# Tempo em meu notebook: 5 s.    \n"
     ],
     "language": "python",
     "metadata": {},
     "outputs": [
      {
       "output_type": "stream",
       "stream": "stdout",
       "text": [
        "NOME                          : \u00c1REA          : PA\u00cdS\n",
        "\n",
        "Georg Wilhelm Friedrich Hegel : philosopher    : Stuttgart, Duchy of W\u00fcrttemberg\n",
        "\n",
        "Arthur Schopenhauer           : philosopher    : Danzig (Gda\u0144sk)               \n",
        "\n",
        "Friedrich Nietzsche           : philosopher    : R\u00f6ckenbeiL\u00fctzen, Kingdom of Prussia\n",
        "\n",
        "William S. Burroughs          : writer         : St. Louis, Missouri, U.S.     \n",
        "\n",
        "Karl Marx                     : philosopher    : Trier, Kingdom of Prussia, German Confederation\n",
        "\n",
        "Immanuel Kant                 : philosopher    : K\u00f6nigsberg, Kingdom of Prussia\n",
        "\n",
        "G. K. Chesterton              : writer         : Kensington, London, England   \n",
        "\n",
        "Baruch Spinoza                : philosopher    : Amsterdam, Dutch Republic     \n",
        "\n",
        "Samuel Beckett                : writer         : Foxrock, Dublin, Ireland      \n",
        "\n",
        "Franz Kafka                   : person         : Prague, Bohemia, AustriaHungary\n",
        "\n",
        "Consulta ao Wikipedia em 4.00 s.\n"
       ]
      }
     ],
     "prompt_number": 13
    },
    {
     "cell_type": "markdown",
     "metadata": {},
     "source": [
      "#### An\u00e1lise de Similaridade"
     ]
    },
    {
     "cell_type": "code",
     "collapsed": false,
     "input": [
      "# Usaremos a medida de dist\u00e2ncia Tanimoto. Livro Collective Intelligence, p. 47.\n",
      "# Eu j\u00e1 tenho a qtd de influ\u00eancia em comum entre 2 pessoas. \n",
      "#Falta pegar a qtd de influ\u00eancias do conjunto uni\u00e3o.\n",
      "\n",
      "def dist_influencias_comum(dataset, l_pessoas, min_influencia = 0):\n",
      "    \n",
      "    \n",
      "    n = len(l_pessoas)\n",
      "    \n",
      "    # Vou aproveitar o que j\u00e1 foi executado antes.\n",
      "    # l_influenciados, l_influenciadores = monta_listas_adj_influencias(dataset)\n",
      "    \n",
      "    # Matriz onde elemento 'e[0...n]=[a,b,c]' tem 'c' como a dist\u00e2ncia de poder de influ\u00eancia entre 'a' e 'b'.\n",
      "    d_influenciar = []\n",
      "    \n",
      "    # Calcular Tanimoto somente para os que tem algo em comum.\n",
      "    for i,j,k in m_influenciados_comum:\n",
      "        if k>=min_influencia:\n",
      "            l1 = len(l_influenciados[i]) # Influenciados por i.\n",
      "            l2 = len(l_influenciados[j]) # Influenciados por j.\n",
      "            tn  = 1.0 - (float(k)/(l1+l2-k)) \n",
      "            d_influenciar.append([i,j, tn])\n",
      "                \n",
      "    return d_influenciar"
     ],
     "language": "python",
     "metadata": {},
     "outputs": [],
     "prompt_number": 18
    },
    {
     "cell_type": "code",
     "collapsed": false,
     "input": [
      "# Calcula as dist\u00e2ncias de influ\u00eancia maiores do que 1 em comum.\n",
      "dist = dist_influencias_comum(dataset, pessoas, 2)\n",
      "\n",
      "# Ordena a lista de dist\u00e2ncias.\n",
      "distord = sorted(dist, key=lambda x: x[2])\n",
      "\n",
      "[(nome(i),nome(j)) for (i,j,d) in distord]\n",
      "\n"
     ],
     "language": "python",
     "metadata": {},
     "outputs": [
      {
       "output_type": "pyout",
       "prompt_number": 77,
       "text": [
        "[(u'Emanuel Hahn', u'Eugenia Berlin'),\n",
        " (u'Emanuel Hahn', u'Florence Wyle'),\n",
        " (u'Eugenia Berlin', u'Florence Wyle'),\n",
        " (u'Gangadhar V. Chittal', u'S. R. Ekkundi'),\n",
        " (u'Gavril Stefanovi\\u0107 Venclovi\\u0107', u'Zaharije Orfelin'),\n",
        " (u'Maj Sj\\xf6wall', u'Per Wahl\\xf6\\xf6'),\n",
        " (u'Thomas Charv\\xe9riat', u'Zhang Deli'),\n",
        " (u'G\\xfcnter Grass', u'Raoul Schrott'),\n",
        " (u'Jeong Jun-ha', u'Yoo Jae-Seok'),\n",
        " (u'Abdul Ghaffar Naqshbandi', u'Fazal Ali Qureshi'),\n",
        " (u'Alphonse de Lamartine', u'James Macpherson'),\n",
        " (u'Arda Denkel', u'P. F. Strawson'),\n",
        " (u'Derek Mahon', u'John Montague (poet)'),\n",
        " (u'James Macpherson', u'Robert Southey'),\n",
        " (u'Rose Tang', u'Thomas Charv\\xe9riat'),\n",
        " (u'Rose Tang', u'Zhang Deli'),\n",
        " (u'Alexandre Dumas', u'Liviu Rebreanu'),\n",
        " (u'Albertus Magnus    1', u'Pseudo-Dionysius the Areopagite'),\n",
        " (u'Alphonse de Lamartine', u'Robert Southey'),\n",
        " (u'Clarence Irving Lewis', u'Rudolf Carnap'),\n",
        " (u'Evelyn Underhill', u'Owen Barfield'),\n",
        " (u'Jeong Jun-ha', u'Noh Hong-cheol'),\n",
        " (u'Liu Dao', u'Thomas Charv\\xe9riat'),\n",
        " (u'Liu Dao', u'Wang Dongma'),\n",
        " (u'Liu Dao', u'Zhang Deli'),\n",
        " (u'Paul C\\xe9zanne', u'Paul Gauguin'),\n",
        " (u'Donald Davidson (philosopher)', u'Wilfrid Sellars'),\n",
        " (u'Emo Philips', u'Steven Wright'),\n",
        " (u'Socrates', u'Zeno of Elea'),\n",
        " (u'Tom of Finland', u'Wilhelm von Gloeden'),\n",
        " (u'Alain Badiou', u'Jacques Ranci\\xe8re'),\n",
        " (u'Albertus Magnus    1', u'Johannes Scotus Eriugena'),\n",
        " (u'Andre Dubus', u'Gordon Lish'),\n",
        " (u'Gregor Strni\\u0161a', u'Veno Taufer'),\n",
        " (u'Jakob B\\xf6hme', u'Johann Gottlieb Fichte'),\n",
        " (u'Paul Auster', u'Philip Roth'),\n",
        " (u'Friedrich Heinrich Jacobi', u'Friedrich Wilhelm Joseph Schelling'),\n",
        " (u'Anselm of Canterbury    1', u'Johannes Scotus Eriugena'),\n",
        " (u'Bobcat Goldthwait', u'Emo Philips'),\n",
        " (u'Alexander Herzen', u'Friedrich Engels'),\n",
        " (u'Andre Dubus', u'Richard Yates (novelist)'),\n",
        " (u'Anselm of Canterbury    1', u'Maimonides'),\n",
        " (u'Edmund Spenser', u'John Pory'),\n",
        " (u'James Thurber', u'William March'),\n",
        " (u'John D. MacDonald', u'Ray Bradbury'),\n",
        " (u'John Locke', u'Nicolas Malebranche'),\n",
        " (u'Lev Shestov', u'Vladimir Solovyov (philosopher)'),\n",
        " (u'Max Horkheimer', u'Max Weber'),\n",
        " (u'Heraclitus', u'Parmenides'),\n",
        " (u'Aristotle', u'Averroes'),\n",
        " (u'Franz Brentano', u'Karl Robert Eduard von Hartmann'),\n",
        " (u'Andre Dubus', u'Raymond Carver'),\n",
        " (u'Duns Scotus', u'Francisco Su\\xe1rez'),\n",
        " (u'Heraclitus', u'Protagoras'),\n",
        " (u'Ken Kesey', u'Norman Mailer'),\n",
        " (u'Parmenides', u'Protagoras'),\n",
        " (u'Heraclitus', u'Pythagoras'),\n",
        " (u'Alan Moore', u'Ursula K. Le Guin'),\n",
        " (u'Fritz Leiber', u'M. R. James'),\n",
        " (u'Gordon Lish', u'Richard Yates (novelist)'),\n",
        " (u'Oakley Hall', u'Richard Yates (novelist)'),\n",
        " (u'Raoul Schrott', u'Saul Bellow'),\n",
        " (u'Shirley Jackson', u'Stanley G. Weinbaum'),\n",
        " (u'Edward Plunkett, 18th Baron of Dunsany', u'T. H. White'),\n",
        " (u'Franco Basaglia', u'Karl Jaspers'),\n",
        " (u'G\\xfcnter Grass', u'Saul Bellow'),\n",
        " (u'James Macpherson', u'William Blake'),\n",
        " (u'Alphonse de Lamartine', u'William Blake'),\n",
        " (u'Franco Basaglia', u'Franz Brentano'),\n",
        " (u'Franz Brentano', u'Wilhelm Dilthey'),\n",
        " (u'Robert Southey', u'William Blake'),\n",
        " (u'Duns Scotus', u'Plato'),\n",
        " (u'Mort Sahl', u'Robert Benchley'),\n",
        " (u'Clark Ashton Smith', u'Edward Plunkett, 18th Baron of Dunsany'),\n",
        " (u'George Orwell', u'Theodore Sturgeon'),\n",
        " (u'Jens Peter Jacobsen', u'Knut Hamsun'),\n",
        " (u'Raymond Carver', u'Richard Yates (novelist)'),\n",
        " (u'Edmund Husserl', u'Karl Jaspers'),\n",
        " (u'Friedrich Engels', u'Karl Marx'),\n",
        " (u'George Orwell', u'William March'),\n",
        " (u'Josiah Warren', u'Max Stirner'),\n",
        " (u'Adalbert Stifter', u'Max Stirner'),\n",
        " (u'Ovid', u'Virgil'),\n",
        " (u'Francisco Su\\xe1rez', u'Plato'),\n",
        " (u'Harlan Ellison', u'Jack Vance'),\n",
        " (u'Jean-Jacques Rousseau', u'Montesquieu'),\n",
        " (u'Jack Vance', u'T. H. White'),\n",
        " (u'Franz Kafka', u'Raoul Schrott'),\n",
        " (u'Edgar Rice Burroughs', u'Edward Plunkett, 18th Baron of Dunsany'),\n",
        " (u'Franz Kafka', u'G\\xfcnter Grass'),\n",
        " (u'Friedrich Heinrich Jacobi', u'Immanuel Kant'),\n",
        " (u'Alexander Herzen', u'Karl Marx'),\n",
        " (u'Jonathan Winters', u'Richard Pryor'),\n",
        " (u'Allen Ginsberg', u'William Blake'),\n",
        " (u'Arthur Rimbaud', u'Louis-Ferdinand C\\xe9line'),\n",
        " (u'Epicurus', u'Niccol\\xf2 Machiavelli'),\n",
        " (u'Jack Vance', u'Lloyd Alexander'),\n",
        " (u'Jack Vance', u'Robert A. Heinlein'),\n",
        " (u'Friedrich Wilhelm Joseph Schelling', u'Immanuel Kant'),\n",
        " (u'Jack Kerouac', u'Ken Kesey'),\n",
        " (u'Jack Kerouac', u'Norman Mailer'),\n",
        " (u'Edward Plunkett, 18th Baron of Dunsany', u'Jack Vance'),\n",
        " (u'Immanuel Kant', u'Jean-Jacques Rousseau'),\n",
        " (u'Niccol\\xf2 Machiavelli', u'Plato'),\n",
        " (u'Anton Chekhov', u'D. H. Lawrence'),\n",
        " (u'Gottfried Leibniz', u'Plato'),\n",
        " (u'Michel de Montaigne', u'Plato'),\n",
        " (u'Edmund Husserl', u'Franco Basaglia'),\n",
        " (u'Fritz Leiber', u'H. P. Lovecraft'),\n",
        " (u'Adalbert Stifter', u'Johann Wolfgang von Goethe'),\n",
        " (u'H. P. Lovecraft', u'M. R. James'),\n",
        " (u'H. P. Lovecraft', u'Stanley G. Weinbaum'),\n",
        " (u'Epicurus', u'Plato'),\n",
        " (u'Heraclitus', u'Jean-Jacques Rousseau'),\n",
        " (u'Anton Chekhov', u'Marcel Proust'),\n",
        " (u'Heraclitus', u'Johann Wolfgang von Goethe'),\n",
        " (u'Robert E. Howard', u'Roger Zelazny'),\n",
        " (u'Franz Kafka', u'Saul Bellow'),\n",
        " (u'Jorge Luis Borges', u'Samuel Beckett'),\n",
        " (u'Edmund Husserl', u'Friedrich Nietzsche'),\n",
        " (u'Franz Kafka', u'Robert Louis Stevenson'),\n",
        " (u'Immanuel Kant', u'Voltaire'),\n",
        " (u'Baruch Spinoza', u'Heraclitus'),\n",
        " (u'Immanuel Kant', u'Karl Jaspers'),\n",
        " (u'Franco Basaglia', u'Immanuel Kant'),\n",
        " (u'George Carlin', u'Richard Pryor'),\n",
        " (u'Heraclitus', u'Immanuel Kant'),\n",
        " (u'Immanuel Kant', u'Montesquieu'),\n",
        " (u'Baruch Spinoza', u'Niccol\\xf2 Machiavelli'),\n",
        " (u'Arthur Rimbaud', u'William S. Burroughs'),\n",
        " (u'Friedrich Nietzsche', u'Karl Jaspers'),\n",
        " (u'Jack Vance', u'Robert E. Howard'),\n",
        " (u'Johann Wolfgang von Goethe', u'Max Stirner'),\n",
        " (u'Franco Basaglia', u'Friedrich Nietzsche'),\n",
        " (u'Gottfried Leibniz', u'Immanuel Kant'),\n",
        " (u'Immanuel Kant', u'Michel de Montaigne'),\n",
        " (u'Immanuel Kant', u'William James'),\n",
        " (u'Friedrich Nietzsche', u'Immanuel Kant'),\n",
        " (u'Immanuel Kant', u'Ren\\xe9 Descartes'),\n",
        " (u'Jean-Paul Sartre', u'Samuel Beckett'),\n",
        " (u'William Blake', u'William S. Burroughs'),\n",
        " (u'George Carlin', u'Steve Martin'),\n",
        " (u'Arthur Schopenhauer', u'Johann Wolfgang von Goethe'),\n",
        " (u'Adalbert Stifter', u'Arthur Schopenhauer'),\n",
        " (u'Immanuel Kant', u'Plato'),\n",
        " (u'Jean-Jacques Rousseau', u'Johann Wolfgang von Goethe'),\n",
        " (u'Georg Wilhelm Friedrich Hegel', u'Karl Marx'),\n",
        " (u'Alexander Herzen', u'Georg Wilhelm Friedrich Hegel'),\n",
        " (u'Jack Kerouac', u'William S. Burroughs'),\n",
        " (u'Edmund Husserl', u'Immanuel Kant'),\n",
        " (u'Friedrich Engels', u'Georg Wilhelm Friedrich Hegel'),\n",
        " (u'Baruch Spinoza', u'Jean-Jacques Rousseau'),\n",
        " (u'Baruch Spinoza', u'Johann Wolfgang von Goethe'),\n",
        " (u'Immanuel Kant', u'Johann Wolfgang von Goethe'),\n",
        " (u'Arthur Schopenhauer', u'Max Stirner'),\n",
        " (u'Baruch Spinoza', u'Immanuel Kant'),\n",
        " (u'Arthur Schopenhauer', u'S\\xf8ren Kierkegaard'),\n",
        " (u'Georg Wilhelm Friedrich Hegel', u'Immanuel Kant')]"
       ]
      }
     ],
     "prompt_number": 77
    },
    {
     "cell_type": "code",
     "collapsed": false,
     "input": [],
     "language": "python",
     "metadata": {},
     "outputs": []
    }
   ],
   "metadata": {}
  }
 ]
}